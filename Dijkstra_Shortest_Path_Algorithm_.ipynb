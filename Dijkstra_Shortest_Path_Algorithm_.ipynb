{
  "nbformat": 4,
  "nbformat_minor": 0,
  "metadata": {
    "colab": {
      "provenance": [],
      "authorship_tag": "ABX9TyPTMxjKzY2zN0Wi6cWGKZM9",
      "include_colab_link": true
    },
    "kernelspec": {
      "name": "python3",
      "display_name": "Python 3"
    },
    "language_info": {
      "name": "python"
    }
  },
  "cells": [
    {
      "cell_type": "markdown",
      "metadata": {
        "id": "view-in-github",
        "colab_type": "text"
      },
      "source": [
        "<a href=\"https://colab.research.google.com/github/njafarov/Dijkstra_Optimization/blob/main/Dijkstra_Shortest_Path_Algorithm_.ipynb\" target=\"_parent\"><img src=\"https://colab.research.google.com/assets/colab-badge.svg\" alt=\"Open In Colab\"/></a>"
      ]
    },
    {
      "cell_type": "code",
      "execution_count": 1,
      "metadata": {
        "id": "EwKJCz5C7uuy"
      },
      "outputs": [],
      "source": [
        "import sys\n",
        "from heapq import *"
      ]
    },
    {
      "cell_type": "code",
      "source": [
        "def dijstra(graph, src, destination):\n",
        "  inf = sys.maxsize # we have to mention the distance of unvisited nod as infinity\n",
        "  node_data = {'A':{'cost':inf,'pred':[]},\n",
        "               'B':{'cost':inf,'pred':[]},\n",
        "               'C':{'cost':inf,'pred':[]},\n",
        "               'D':{'cost':inf,'pred':[]},\n",
        "               'E':{'cost':inf,'pred':[]},\n",
        "               'F':{'cost':inf,'pred':[]}\n",
        "               }\n",
        "  node_data[source]['cost']=0 # we have to set the source data =0, meaning that from A to A the distance is 0\n",
        "  visited = []\n",
        "  temp = src #Temporary variable which makes it possible to assign it each time to the node with smallest distance\n",
        "  for i in range(5): #range(n-1), n is number of vertices (in our case, we have 6: from A to F)\n",
        "    if temp not in visited:\n",
        "      visited.append(temp)\n",
        "      min_heap = []\n",
        "      for j in graph[temp]:\n",
        "        if j not in visited:\n",
        "          cost = node_data[temp]['cost']+graph[temp][j]\n",
        "          if cost<node_data[j]['cost']:\n",
        "            node_data[j]['cost']=cost\n",
        "            node_data[j]['pred']=node_data[temp]['pred']+list(temp)\n",
        "          heappush(min_heap,(node_data[j]['cost'],j))\n",
        "    heapify(min_heap)\n",
        "    temp = min_heap[0][1]\n",
        "  print(\"Shortest Distance: \"+ str(node_data[destination]['cost']))\n",
        "  print(\"Shortest Path: \"+ str(node_data[destination]['pred']+list(destination)))\n",
        "           \n",
        "\n",
        "\n"
      ],
      "metadata": {
        "id": "0jAmgS6b8fJG"
      },
      "execution_count": 30,
      "outputs": []
    },
    {
      "cell_type": "code",
      "source": [
        "if __name__==\"__main__\":\n",
        "  graph={\"A\":{\"B\":2,\"C\":4},\n",
        "         \"B\":{\"A\":2,\"C\":3,\"D\":8},\n",
        "         \"C\":{\"A\":4,\"B\":3,\"E\":5,\"D\":2},\n",
        "         \"D\":{\"B\":8,\"C\":2,\"E\":11,\"F\":22},\n",
        "         \"E\":{\"C\":5,\"D\":11,\"F\":1},\n",
        "         \"F\":{\"D\":22,\"E\":1}\n",
        "         }\n",
        "  source = \"A\"\n",
        "  destination=\"F\""
      ],
      "metadata": {
        "id": "h87vqERDI4UF"
      },
      "execution_count": 31,
      "outputs": []
    },
    {
      "cell_type": "code",
      "source": [
        "dijstra(graph, source, destination)"
      ],
      "metadata": {
        "colab": {
          "base_uri": "https://localhost:8080/"
        },
        "id": "Shxhi5qOIUDX",
        "outputId": "c2994a11-40fe-4f3a-d793-04a529d6213f"
      },
      "execution_count": 32,
      "outputs": [
        {
          "output_type": "stream",
          "name": "stdout",
          "text": [
            "Shortest Distance: 10\n",
            "Shortest Path: ['A', 'C', 'E', 'F']\n"
          ]
        }
      ]
    },
    {
      "cell_type": "code",
      "source": [],
      "metadata": {
        "id": "ssUYkfNLR8M4"
      },
      "execution_count": null,
      "outputs": []
    }
  ]
}