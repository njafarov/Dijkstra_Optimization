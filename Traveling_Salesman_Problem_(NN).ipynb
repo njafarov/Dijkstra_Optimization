{
  "nbformat": 4,
  "nbformat_minor": 0,
  "metadata": {
    "colab": {
      "provenance": [],
      "authorship_tag": "ABX9TyM/J7+dXAjxzAFlchCmi3rK",
      "include_colab_link": true
    },
    "kernelspec": {
      "name": "python3",
      "display_name": "Python 3"
    },
    "language_info": {
      "name": "python"
    }
  },
  "cells": [
    {
      "cell_type": "markdown",
      "metadata": {
        "id": "view-in-github",
        "colab_type": "text"
      },
      "source": [
        "<a href=\"https://colab.research.google.com/github/njafarov/Optimization_Python/blob/main/Traveling_Salesman_Problem_(NN).ipynb\" target=\"_parent\"><img src=\"https://colab.research.google.com/assets/colab-badge.svg\" alt=\"Open In Colab\"/></a>"
      ]
    },
    {
      "cell_type": "code",
      "source": [
        "import seaborn as sns\n",
        "import matplotlib.pyplot as plt"
      ],
      "metadata": {
        "id": "1XDGzv03xG9L"
      },
      "execution_count": 3,
      "outputs": []
    },
    {
      "cell_type": "code",
      "execution_count": 10,
      "metadata": {
        "id": "7MdyT9EaEHgt"
      },
      "outputs": [],
      "source": [
        "network = {(1,1):0,(1,2):10,(1,3):10.8,(1,4):6.3,(1,5):13,(1,6):13.4,(1,7):16.4,(1,8):5.1,(1,9):6.4,(1,10):8.2,(1,'DC'):7.1,\n",
        "           (2,1):10,(2,2):0,(2,3):7.1,(2,4):10.6,(2,5):3.6,(2,6):5.4,(2,7):9.5,(2,8):5.4,(2,9):7.2,(2,10):10.6,(2,\"DC\"):3,\n",
        "           (3,1):10.8,(3,2):7.1,(3,3):0,(3,4):7,(3,5):6.4,(3,6):12.4,(3,7):16.5,(3,8):6.4,(3,9):12.1,(3,10):15.7,(3,\"DC\"):7.3,\n",
        "           (4,1):6.3,(4,2):10.6,(4,3):7,(4,4):0,(4,5):12.1,(4,6):15.6,(4,7):19.4,(4,8):5.8,(4,9):11.2,(4,10):14,(4,\"DC\"):8.6,\n",
        "           (5,1):13,(5,2):3.6,(5,3):6.4,(5,4):12.1,(5,5):0,(5,6):7.1,(5,7):11,(5,8):8,(5,9):10.8,(5,10):14.2,(5,\"DC\"):6.3,\n",
        "           (6,1):13.4,(6,2):5.4,(6,3):12.4,(6,4):15.6,(6,5):7.1,(6,6):0,(6,7):4.1,(6,8):9.9,(6,9):8.1,(6,10):10.2,(6,\"DC\"):7.1,\n",
        "           (7,1):16.4,(7,2):9.5,(7,3):16.5,(7,4):19.4,(7,5):11,(7,6):4.1,(7,7):0,(7,8):13.6,(7,9):10.3,(7,10):11.2,(7,\"DC\"):10.8,\n",
        "           (8,1):5.1,(8,2):5.4,(8,3):6.4,(8,4):5.8,(8,5):8,(8,6):9.9,(8,7):13.6,(8,8):0,(8,9):6.1,(8,10):9.5,(8,\"DC\"):2.8,\n",
        "           (9,1):6.4,(9,2):7.2,(9,3):12.1,(9,4):11.2,(9,5):10.8,(9,6):8.1,(9,7):10.3,(9,8):6.1,(9,9):0,(9,10):3.6,(9,\"DC\"):5,\n",
        "           (10,1):8.2,(10,2):10.6,(10,3):15.7,(10,4):14,(10,5):14.2,(10,6):10.2,(10,7):11.2,(10,8):9.5,(10,9):3.6,(10,10):0,(10,\"DC\"):8.6,\n",
        "           (\"DC\",1):7.1,(\"DC\",2):3,(\"DC\",3):7.3,(\"DC\",4):8.6,(\"DC\",5):6.3,(\"DC\",6):7.1,(\"DC\",7):10.8,(\"DC\",8):2.8,(\"DC\",9):5,(\"DC\",10):8.6,(\"DC\",\"DC\"):0}"
      ]
    },
    {
      "cell_type": "code",
      "source": [
        "coordinates = {1:[3,9],2:[13,10],3:[12,3],4:[5,3],5:[16,8],6:[15,15],7:[16,19],8:[7,8],9:[6.5,14],10:[5,17],\"DC\":[10,10]}"
      ],
      "metadata": {
        "id": "XNPdoQp_dqLe"
      },
      "execution_count": 5,
      "outputs": []
    },
    {
      "cell_type": "code",
      "source": [
        "for i in coordinates:\n",
        "  coordinates[i][0]=coordinates[i][0]-10\n",
        "  coordinates[i][1]=coordinates[i][1]-10\n",
        "print(coordinates)"
      ],
      "metadata": {
        "colab": {
          "base_uri": "https://localhost:8080/"
        },
        "id": "RTtEtBPFsZWZ",
        "outputId": "7a1aa3d8-332e-4cef-ad92-8d3d43e69475"
      },
      "execution_count": 6,
      "outputs": [
        {
          "output_type": "stream",
          "name": "stdout",
          "text": [
            "{1: [-7, -1], 2: [3, 0], 3: [2, -7], 4: [-5, -7], 5: [6, -2], 6: [5, 5], 7: [6, 9], 8: [-3, -2], 9: [-3.5, 4], 10: [-5, 7], 'DC': [0, 0]}\n"
          ]
        }
      ]
    },
    {
      "cell_type": "code",
      "source": [],
      "metadata": {
        "id": "zO3_DFyPxQvP"
      },
      "execution_count": 69,
      "outputs": []
    },
    {
      "cell_type": "code",
      "source": [
        "my_list = []\n",
        "for i in network:\n",
        "  if network[i] ==0:\n",
        "    my_list.append(i)\n",
        "print(my_list)"
      ],
      "metadata": {
        "colab": {
          "base_uri": "https://localhost:8080/"
        },
        "id": "CU-UPGgGERe6",
        "outputId": "666789ba-a262-43b9-8223-ed71734c48a6"
      },
      "execution_count": 7,
      "outputs": [
        {
          "output_type": "stream",
          "name": "stdout",
          "text": [
            "[(1, 1), (2, 2), (3, 3), (4, 4), (5, 5), (6, 6), (7, 7), (8, 8), (9, 9), (10, 10), ('DC', 'DC')]\n"
          ]
        }
      ]
    },
    {
      "cell_type": "code",
      "source": [
        "from typing_extensions import final\n",
        "def salesman(network, coordinates):\n",
        "  results = {}\n",
        "  n = len(my_list)\n",
        "  final_results = []\n",
        "  \n",
        "  for i in my_list:\n",
        "    \n",
        "    sec_list = []\n",
        "    first_list = {}\n",
        "    if i not in sec_list:\n",
        "      sec_list.append(i)\n",
        "      for j in network:\n",
        "        \n",
        "        if sec_list[-1][1]==j[0] and j not in sec_list and j[::-1] not in sec_list:\n",
        "          first_list[j]=network[j]\n",
        "          first_list = {k:i for k,i in sorted(first_list.items(), key=lambda item: item[1])}\n",
        "      sec_list.append(list(first_list)[0])\n",
        "      \n",
        "      for t in range(n-len(sec_list)):\n",
        "        third_list = {}\n",
        "        for j in network:\n",
        "          if sec_list[-1][1]==j[0]and j not in my_list and j not in sec_list and j[::-1] not in sec_list:\n",
        "            third_list[j]=network[j]   \n",
        "            third_list = {k:i for k,i in sorted(third_list.items(), key=lambda item: item[1])}\n",
        "            for b in list(third_list):\n",
        "              for m in sec_list:\n",
        "                if b[1]==m[1]:\n",
        "                  third_list.pop(b)\n",
        "                  third_list = {k:i for k,i in sorted(third_list.items(), key=lambda item: item[1])}              \n",
        "      \n",
        "\n",
        "        sec_list.append(list(third_list)[0])\n",
        "      for j in network:\n",
        "          if sec_list[0][0]==j[1] and sec_list[-1][1]==j[0] and j!=sec_list[0]:\n",
        "            sec_list.append(j) \n",
        "      \n",
        " # Adding  2-Opt Heuristic\n",
        "      # for i in sec_list:\n",
        "      #   for j in sec_list:\n",
        "      #     for x in network:\n",
        "      #       for y in network:\n",
        "      #         if network[x]>0 and network[y]>0 and x not in sec_list and y not in sec_list and i[0]==x[1] and i[1]==y[1] and j[0]==x[0] and j[1]==y[1] and network[i]+network[j]>network[x]+network[y]:\n",
        "      #           #print(\"X: \",x,\"Y: \",y)\n",
        "      #           sec_list.append(x)\n",
        "      #           sec_list.append(y)\n",
        "      #           sec_list.remove(j)\n",
        "      #           sec_list.remove(i)\n",
        "\n",
        "\n",
        "    #print(\"Sec List: \", sec_list)\n",
        "    sum_list = []\n",
        "    for l in sec_list:\n",
        "      sum_list.append(network[l])\n",
        "      final_result = sum(sum_list)\n",
        "      #print(\"Final_result: \", final_result)\n",
        "      results[tuple(sec_list)]= final_result\n",
        "      results = {k:i for k,i in sorted(results.items(), key=lambda item: item[1])}\n",
        "      \n",
        "\n",
        "  final_results=list(results)[0]    \n",
        "  print(\"Results: \", final_results)\n",
        "  #print(\"Results: \", results)\n",
        "  print(\"Optimal distance: \",round(results[list(results)[0]],2))\n",
        "  \n",
        "  x=[]\n",
        "  y=[]\n",
        "  text=[]\n",
        "  \n",
        "  for i in final_results:\n",
        "    # print(\"I: \",i[1])\n",
        "    # print(\"Coordinates: \",coordinates[i[1]][0])\n",
        "    x.append(list(coordinates[i[1]])[0])\n",
        "    y.append(list(coordinates[i[1]])[1])\n",
        "    text.append(i[1])\n",
        "  s = [400 if i == text[0] else 100 for i in text]\n",
        "  plt.figure(figsize=(15,10))\n",
        "  sns.scatterplot(data=coordinates, x=x, y=y,s=s)\n",
        "  plt.title(\"Traveling Salesman Problem\",size=20)\n",
        "  \n",
        "  \n",
        "  i = 0\n",
        "  while i < len(text) - 1:\n",
        "    i += 1\n",
        "    plt.plot(x, y, 'r')\n",
        "    \n",
        "    plt.text(x=x[i]+0.3,y=y[i]+0.3,s=text[i],\n",
        "           fontdict=dict(size=10))  "
      ],
      "metadata": {
        "id": "unU5SBqUJJ1s"
      },
      "execution_count": 11,
      "outputs": []
    },
    {
      "cell_type": "code",
      "source": [
        "salesman(network, coordinates)"
      ],
      "metadata": {
        "colab": {
          "base_uri": "https://localhost:8080/",
          "height": 648
        },
        "id": "gt3VjZadblxm",
        "outputId": "635665e8-1d18-40ed-9260-29a02f145bae"
      },
      "execution_count": 12,
      "outputs": [
        {
          "output_type": "stream",
          "name": "stdout",
          "text": [
            "Results:  ((10, 10), (10, 9), (9, 'DC'), ('DC', 8), (8, 1), (1, 4), (4, 3), (3, 5), (5, 2), (2, 6), (6, 7), (7, 10))\n",
            "Optimal distance:  60.5\n"
          ]
        },
        {
          "output_type": "display_data",
          "data": {
            "text/plain": [
              "<Figure size 1080x720 with 1 Axes>"
            ],
            "image/png": "[encoded data removed]"
          },
          "metadata": {
            "needs_background": "light"
          }
        }
      ]
    },
    {
      "cell_type": "code",
      "source": [],
      "metadata": {
        "id": "mkHh24DijCji"
      },
      "execution_count": 86,
      "outputs": []
    },
    {
      "cell_type": "code",
      "source": [],
      "metadata": {
        "id": "BNKm6ALKjix2"
      },
      "execution_count": null,
      "outputs": []
    }
  ]
}