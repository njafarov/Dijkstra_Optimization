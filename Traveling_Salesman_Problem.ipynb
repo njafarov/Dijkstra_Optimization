{
  "nbformat": 4,
  "nbformat_minor": 0,
  "metadata": {
    "colab": {
      "provenance": [],
      "authorship_tag": "ABX9TyPCRAxhR1Al7a4Xa41RuEJh",
      "include_colab_link": true
    },
    "kernelspec": {
      "name": "python3",
      "display_name": "Python 3"
    },
    "language_info": {
      "name": "python"
    }
  },
  "cells": [
    {
      "cell_type": "markdown",
      "metadata": {
        "id": "view-in-github",
        "colab_type": "text"
      },
      "source": [
        "<a href=\"https://colab.research.google.com/github/njafarov/Optimization_Python/blob/main/Traveling_Salesman_Problem.ipynb\" target=\"_parent\"><img src=\"https://colab.research.google.com/assets/colab-badge.svg\" alt=\"Open In Colab\"/></a>"
      ]
    },
    {
      "cell_type": "code",
      "execution_count": 176,
      "metadata": {
        "id": "7MdyT9EaEHgt"
      },
      "outputs": [],
      "source": [
        "network = {(1,1):0,(1,2):10,(1,3):10.8,(1,4):6.3,(1,5):13,(1,6):13.4,(1,7):16.4,(1,8):5.1,(1,9):6.4,(1,10):8.2,(1,'DC'):7.1,\n",
        "           (2,1):10,(2,2):0,(2,3):7.1,(2,4):10.6,(2,5):3.6,(2,6):5.4,(2,7):9.5,(2,8):5.4,(2,9):7.2,(2,10):10.6,(2,\"DC\"):3,\n",
        "           (3,1):10.8,(3,2):7.1,(3,3):0,(3,4):7,(3,5):6.4,(3,6):12.4,(3,7):16.5,(3,8):6.4,(3,9):12.1,(3,10):15.7,(3,\"DC\"):7.3,\n",
        "           (4,1):6.3,(4,2):1.6,(4,3):7,(4,4):0,(4,5):12.1,(4,6):15.6,(4,7):19.4,(4,8):5.8,(4,9):11.2,(4,10):14,(4,\"DC\"):8.6,\n",
        "           (5,1):13,(5,2):3.6,(5,3):6.4,(5,4):12.1,(5,5):0,(5,6):7.1,(5,7):11,(5,8):8,(5,9):10.8,(5,10):14.2,(5,\"DC\"):6.3,\n",
        "           (6,1):13.4,(6,2):5.4,(6,3):12.4,(6,4):15.6,(6,5):7.1,(6,6):0,(6,7):4.1,(6,8):9.9,(6,9):8.1,(6,10):10.2,(6,\"DC\"):7.1,\n",
        "           (7,1):16.4,(7,2):9.5,(7,3):16.5,(7,4):9.4,(7,5):11,(7,6):4.1,(7,7):0,(7,8):13.6,(7,9):10.3,(7,10):11.2,(7,\"DC\"):10.8,\n",
        "           (8,1):5.1,(8,2):5.4,(8,3):6.4,(8,4):5.8,(8,5):8,(8,6):9.9,(8,7):13.6,(8,8):0,(8,9):6.1,(8,10):9.5,(8,\"DC\"):2.8,\n",
        "           (9,1):6.4,(9,2):7.2,(9,3):12.1,(9,4):11.2,(9,5):10.8,(9,6):8.1,(9,7):10.3,(9,8):6.1,(9,9):0,(9,10):3.6,(9,\"DC\"):5,\n",
        "           (10,1):8.2,(10,2):10.6,(10,3):15.7,(10,4):14,(10,5):14.2,(10,6):10.2,(10,7):11.2,(10,8):9.5,(10,9):3.6,(10,10):0,(10,\"DC\"):8.6,\n",
        "           (\"DC\",1):7.1,(\"DC\",2):3,(\"DC\",3):7.3,(\"DC\",4):8.6,(\"DC\",5):6.3,(\"DC\",6):7.1,(\"DC\",7):10.8,(\"DC\",8):2.8,(\"DC\",9):5,(\"DC\",10):8.6,(\"DC\",\"DC\"):0}"
      ]
    },
    {
      "cell_type": "code",
      "source": [
        "my_list = []\n",
        "for i in network:\n",
        "  if network[i] ==0:\n",
        "    my_list.append(i)\n",
        "print(my_list)"
      ],
      "metadata": {
        "colab": {
          "base_uri": "https://localhost:8080/"
        },
        "id": "CU-UPGgGERe6",
        "outputId": "64351928-0b1f-4344-f0e1-729f03479dbe"
      },
      "execution_count": 177,
      "outputs": [
        {
          "output_type": "stream",
          "name": "stdout",
          "text": [
            "[(1, 1), (2, 2), (3, 3), (4, 4), (5, 5), (6, 6), (7, 7), (8, 8), (9, 9), (10, 10), ('DC', 'DC')]\n"
          ]
        }
      ]
    },
    {
      "cell_type": "code",
      "source": [
        "from typing_extensions import final\n",
        "def salesman(network):\n",
        "  results = {}\n",
        "  n = len(my_list)\n",
        "  \n",
        "  for i in my_list:\n",
        "    \n",
        "    sec_list = []\n",
        "    first_list = {}\n",
        "    if i not in sec_list:\n",
        "      sec_list.append(i)\n",
        "      for j in network:\n",
        "        \n",
        "        if sec_list[-1][1]==j[0] and j not in sec_list and j[::-1] not in sec_list:\n",
        "          first_list[j]=network[j]\n",
        "          first_list = {k:i for k,i in sorted(first_list.items(), key=lambda item: item[1])}\n",
        "      sec_list.append(list(first_list)[0])\n",
        "      \n",
        "      for t in range(n-len(sec_list)):\n",
        "        third_list = {}\n",
        "        for j in network:\n",
        "          if sec_list[-1][1]==j[0]and j not in my_list and j not in sec_list and j[::-1] not in sec_list:\n",
        "            third_list[j]=network[j]   \n",
        "            third_list = {k:i for k,i in sorted(third_list.items(), key=lambda item: item[1])}\n",
        "            for b in list(third_list):\n",
        "              for m in sec_list:\n",
        "                if b[1]==m[1]:\n",
        "                  third_list.pop(b)\n",
        "                  third_list = {k:i for k,i in sorted(third_list.items(), key=lambda item: item[1])}\n",
        "\n",
        "        sec_list.append(list(third_list)[0])\n",
        "        sum_list = []\n",
        "        for l in sec_list:\n",
        "          sum_list.append(network[l])\n",
        "      final_result = sum(sum_list)\n",
        "      #print(\"Final_result: \", final_result)\n",
        "    results[str(sec_list)]= final_result\n",
        "    results = {k:i for k,i in sorted(results.items(), key=lambda item: item[1])}\n",
        "        \n",
        "        \n",
        "      \n",
        "    #print(\"Sec_list: \", sec_list)\n",
        "  print(\"Results: \", list(results)[0])\n",
        "  print(\"Optimal distance: \",round(results[list(results)[0]],2))\n",
        "      \n",
        "        "
      ],
      "metadata": {
        "id": "unU5SBqUJJ1s"
      },
      "execution_count": 777,
      "outputs": []
    },
    {
      "cell_type": "code",
      "source": [
        "salesman(network)"
      ],
      "metadata": {
        "colab": {
          "base_uri": "https://localhost:8080/"
        },
        "id": "gt3VjZadblxm",
        "outputId": "72117a7f-c6ec-4e00-f9fe-c12497973d6c"
      },
      "execution_count": 778,
      "outputs": [
        {
          "output_type": "stream",
          "name": "stdout",
          "text": [
            "Results:  [(10, 10), (10, 9), (9, 'DC'), ('DC', 8), (8, 1), (1, 4), (4, 2), (2, 5), (5, 3), (3, 6), (6, 7)]\n",
            "Optimal distance:  50.9\n"
          ]
        }
      ]
    },
    {
      "cell_type": "code",
      "source": [],
      "metadata": {
        "id": "-Wgapk7sufCV"
      },
      "execution_count": null,
      "outputs": []
    }
  ]
}